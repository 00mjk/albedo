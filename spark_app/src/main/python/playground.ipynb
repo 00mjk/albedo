{
 "cells": [
  {
   "cell_type": "code",
   "execution_count": 1,
   "metadata": {
    "ExecuteTime": {
     "end_time": "2017-05-20T18:43:35.755092",
     "start_time": "2017-05-20T18:43:35.747188"
    },
    "collapsed": true
   },
   "outputs": [],
   "source": [
    "import sys\n",
    "sys.path.insert(1, '/Users/vinta/Projects/albedo/spark_app/src/main/python/deps/')"
   ]
  },
  {
   "cell_type": "code",
   "execution_count": 2,
   "metadata": {
    "ExecuteTime": {
     "end_time": "2017-05-20T18:43:43.353397",
     "start_time": "2017-05-20T18:43:35.758715"
    },
    "collapsed": false
   },
   "outputs": [
    {
     "data": {
      "text/plain": [
       "1"
      ]
     },
     "execution_count": 2,
     "metadata": {},
     "output_type": "execute_result"
    }
   ],
   "source": [
    "from albedo_toolkit.common import loadRawData\n",
    "\n",
    "rawDF = loadRawData()\n",
    "\n",
    "rawDF.rdd.getNumPartitions()"
   ]
  },
  {
   "cell_type": "code",
   "execution_count": 3,
   "metadata": {
    "ExecuteTime": {
     "end_time": "2017-05-20T18:44:00.051852",
     "start_time": "2017-05-20T18:43:43.356022"
    },
    "collapsed": false
   },
   "outputs": [
    {
     "data": {
      "text/plain": [
       "DataFrame[user: int, item: int, rating: int, starred_at: timestamp]"
      ]
     },
     "execution_count": 3,
     "metadata": {},
     "output_type": "execute_result"
    },
    {
     "data": {
      "text/plain": [
       "200"
      ]
     },
     "execution_count": 3,
     "metadata": {},
     "output_type": "execute_result"
    }
   ],
   "source": [
    "from albedo_toolkit.transformers import RatingBuilder\n",
    "\n",
    "ratingBuilder = RatingBuilder()\n",
    "ratingDF = ratingBuilder.transform(rawDF)\n",
    "ratingDF.cache()\n",
    "\n",
    "ratingDF.rdd.getNumPartitions()"
   ]
  },
  {
   "cell_type": "code",
   "execution_count": 4,
   "metadata": {
    "ExecuteTime": {
     "end_time": "2017-05-20T18:44:46.111965",
     "start_time": "2017-05-20T18:44:00.054355"
    },
    "collapsed": false
   },
   "outputs": [
    {
     "name": "stdout",
     "output_type": "stream",
     "text": [
      "+-------------+--------------------+--------------------+\n",
      "|count(rating)|count(DISTINCT user)|count(DISTINCT item)|\n",
      "+-------------+--------------------+--------------------+\n",
      "|      3121629|               10483|              551216|\n",
      "+-------------+--------------------+--------------------+\n",
      "\n"
     ]
    }
   ],
   "source": [
    "import pyspark.sql.functions as F\n",
    "\n",
    "ratingDF.agg(F.count('rating'), F.countDistinct('user'), F.countDistinct('item')).show()"
   ]
  },
  {
   "cell_type": "code",
   "execution_count": 5,
   "metadata": {
    "ExecuteTime": {
     "end_time": "2017-05-20T18:45:00.999456",
     "start_time": "2017-05-20T18:44:46.114410"
    },
    "collapsed": false
   },
   "outputs": [
    {
     "data": {
      "text/plain": [
       "99.94597759858303"
      ]
     },
     "execution_count": 5,
     "metadata": {},
     "output_type": "execute_result"
    }
   ],
   "source": [
    "from albedo_toolkit.common import calculateSparsity\n",
    "\n",
    "calculateSparsity(ratingDF)"
   ]
  }
 ],
 "metadata": {
  "anaconda-cloud": {},
  "kernelspec": {
   "display_name": "Python [default]",
   "language": "python",
   "name": "python3"
  },
  "language_info": {
   "codemirror_mode": {
    "name": "ipython",
    "version": 3
   },
   "file_extension": ".py",
   "mimetype": "text/x-python",
   "name": "python",
   "nbconvert_exporter": "python",
   "pygments_lexer": "ipython3",
   "version": "3.5.2"
  }
 },
 "nbformat": 4,
 "nbformat_minor": 1
}

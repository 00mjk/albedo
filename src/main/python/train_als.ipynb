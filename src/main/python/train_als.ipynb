{
 "cells": [
  {
   "cell_type": "code",
   "execution_count": 1,
   "metadata": {
    "ExecuteTime": {
     "end_time": "2017-05-20T18:15:14.025401",
     "start_time": "2017-05-20T18:15:14.018383"
    },
    "collapsed": true
   },
   "outputs": [],
   "source": [
    "import sys\n",
    "sys.path.insert(1, '/Users/vinta/Projects/albedo/src/main/python/deps/')"
   ]
  },
  {
   "cell_type": "code",
   "execution_count": 2,
   "metadata": {
    "ExecuteTime": {
     "end_time": "2017-05-20T18:15:20.094954",
     "start_time": "2017-05-20T18:15:14.034942"
    },
    "collapsed": false
   },
   "outputs": [
    {
     "data": {
      "text/plain": [
       "1"
      ]
     },
     "execution_count": 2,
     "metadata": {},
     "output_type": "execute_result"
    }
   ],
   "source": [
    "from albedo_toolkit.common import loadRawData\n",
    "\n",
    "rawDF = loadRawData()\n",
    "\n",
    "rawDF.rdd.getNumPartitions()"
   ]
  },
  {
   "cell_type": "code",
   "execution_count": 3,
   "metadata": {
    "ExecuteTime": {
     "end_time": "2017-05-20T18:15:35.108405",
     "start_time": "2017-05-20T18:15:20.097048"
    },
    "collapsed": false
   },
   "outputs": [
    {
     "data": {
      "text/plain": [
       "DataFrame[user: int, item: int, rating: int, starred_at: timestamp]"
      ]
     },
     "execution_count": 3,
     "metadata": {},
     "output_type": "execute_result"
    },
    {
     "data": {
      "text/plain": [
       "200"
      ]
     },
     "execution_count": 3,
     "metadata": {},
     "output_type": "execute_result"
    }
   ],
   "source": [
    "from albedo_toolkit.transformers import RatingBuilder\n",
    "\n",
    "ratingBuilder = RatingBuilder()\n",
    "ratingDF = ratingBuilder.transform(rawDF)\n",
    "ratingDF.cache()\n",
    "\n",
    "ratingDF.rdd.getNumPartitions()"
   ]
  },
  {
   "cell_type": "code",
   "execution_count": 4,
   "metadata": {
    "ExecuteTime": {
     "end_time": "2017-05-20T18:16:25.718762",
     "start_time": "2017-05-20T18:15:35.110794"
    },
    "collapsed": false
   },
   "outputs": [
    {
     "name": "stdout",
     "output_type": "stream",
     "text": [
      "+-------------+--------------------+--------------------+\n",
      "|count(rating)|count(DISTINCT user)|count(DISTINCT item)|\n",
      "+-------------+--------------------+--------------------+\n",
      "|      3121629|               10483|              551216|\n",
      "+-------------+--------------------+--------------------+\n",
      "\n",
      "+--------+----------------+\n",
      "|    item|stargazers_count|\n",
      "+--------+----------------+\n",
      "| 2126244|            2211|\n",
      "|10270250|            1683|\n",
      "|  943149|            1605|\n",
      "|  291137|            1567|\n",
      "|13491895|            1526|\n",
      "| 9384267|            1480|\n",
      "| 3544424|            1468|\n",
      "| 7691631|            1441|\n",
      "|29028775|            1427|\n",
      "| 1334369|            1399|\n",
      "| 6498492|            1395|\n",
      "|21737465|            1375|\n",
      "|  211666|            1343|\n",
      "| 3470471|            1318|\n",
      "| 3100121|            1263|\n",
      "| 1062897|            1251|\n",
      "|45717250|            1250|\n",
      "| 1861458|            1213|\n",
      "|14440270|            1210|\n",
      "|  460078|            1200|\n",
      "+--------+----------------+\n",
      "only showing top 20 rows\n",
      "\n",
      "+-------+-------------+\n",
      "|   user|starred_count|\n",
      "+-------+-------------+\n",
      "|3947125|         8947|\n",
      "|5527642|         7978|\n",
      "| 446613|         7860|\n",
      "| 627410|         7800|\n",
      "|  13998|         6334|\n",
      "|2467194|         6327|\n",
      "|  63402|         6034|\n",
      "|2005841|         6024|\n",
      "|5073946|         5980|\n",
      "|   2296|         5862|\n",
      "| 935729|         5524|\n",
      "|  38887|         5298|\n",
      "| 262782|         5175|\n",
      "|  94489|         5132|\n",
      "| 752015|         5125|\n",
      "|8610143|         4999|\n",
      "|  64258|         4895|\n",
      "| 142914|         4893|\n",
      "| 343107|         4780|\n",
      "|4865237|         4723|\n",
      "+-------+-------------+\n",
      "only showing top 20 rows\n",
      "\n"
     ]
    }
   ],
   "source": [
    "import pyspark.sql.functions as F\n",
    "\n",
    "ratingDF.agg(F.count('rating'), F.countDistinct('user'), F.countDistinct('item')).show()\n",
    "\n",
    "stargazersCountDF = ratingDF \\\n",
    "    .groupBy('item') \\\n",
    "    .agg(F.count('user').alias('stargazers_count')) \\\n",
    "    .orderBy('stargazers_count', ascending=False)\n",
    "stargazersCountDF.show()\n",
    "\n",
    "starredCountDF = ratingDF \\\n",
    "    .groupBy('user') \\\n",
    "    .agg(F.count('item').alias('starred_count')) \\\n",
    "    .orderBy('starred_count', ascending=False)\n",
    "starredCountDF.show()"
   ]
  },
  {
   "cell_type": "code",
   "execution_count": 5,
   "metadata": {
    "ExecuteTime": {
     "end_time": "2017-05-20T18:16:26.471535",
     "start_time": "2017-05-20T18:16:25.721401"
    },
    "collapsed": true
   },
   "outputs": [],
   "source": [
    "from albedo_toolkit.transformers import DataCleaner\n",
    "\n",
    "dataCleaner = DataCleaner(\n",
    "    minItemStargazersCount=2,\n",
    "    maxItemStargazersCount=4000,\n",
    "    minUserStarredCount=2,\n",
    "    maxUserStarredCount=5000\n",
    ")\n",
    "cleanDF = dataCleaner.transform(ratingDF)"
   ]
  },
  {
   "cell_type": "code",
   "execution_count": 6,
   "metadata": {
    "ExecuteTime": {
     "end_time": "2017-05-20T18:17:42.879565",
     "start_time": "2017-05-20T18:16:26.473867"
    },
    "collapsed": false
   },
   "outputs": [
    {
     "name": "stdout",
     "output_type": "stream",
     "text": [
      "+-------------+--------------------+--------------------+\n",
      "|count(rating)|count(DISTINCT user)|count(DISTINCT item)|\n",
      "+-------------+--------------------+--------------------+\n",
      "|      2761118|               10472|              245626|\n",
      "+-------------+--------------------+--------------------+\n",
      "\n"
     ]
    }
   ],
   "source": [
    "cleanDF.agg(F.count('rating'), F.countDistinct('user'), F.countDistinct('item')).show()"
   ]
  },
  {
   "cell_type": "code",
   "execution_count": 7,
   "metadata": {
    "ExecuteTime": {
     "end_time": "2017-05-20T18:21:57.203704",
     "start_time": "2017-05-20T18:17:42.884033"
    },
    "collapsed": false
   },
   "outputs": [
    {
     "data": {
      "text/plain": [
       "DataFrame[user: int, item: int, rating: int, starred_at: timestamp]"
      ]
     },
     "execution_count": 7,
     "metadata": {},
     "output_type": "execute_result"
    }
   ],
   "source": [
    "from pyspark.ml.recommendation import ALS\n",
    "\n",
    "wholeDF = cleanDF\n",
    "wholeDF.cache()\n",
    "\n",
    "als = ALS(implicitPrefs=True, seed=42) \\\n",
    "    .setRank(50) \\\n",
    "    .setRegParam(0.5) \\\n",
    "    .setAlpha(40) \\\n",
    "    .setMaxIter(22)\n",
    "\n",
    "alsModel = als.fit(wholeDF)"
   ]
  },
  {
   "cell_type": "code",
   "execution_count": 8,
   "metadata": {
    "ExecuteTime": {
     "end_time": "2017-05-20T18:23:08.541235",
     "start_time": "2017-05-20T18:21:57.208067"
    },
    "collapsed": false
   },
   "outputs": [
    {
     "name": "stdout",
     "output_type": "stream",
     "text": [
      "NDCG 0.33227421748627317\n"
     ]
    }
   ],
   "source": [
    "from albedo_toolkit.evaluators import RankingEvaluator\n",
    "from albedo_toolkit.transformers import PredictionProcessor\n",
    "\n",
    "predictedDF = alsModel.transform(wholeDF)\n",
    "\n",
    "predictionProcessor = PredictionProcessor()\n",
    "predictionDF = predictionProcessor.transform(predictedDF)\n",
    "\n",
    "k = 30\n",
    "rankingEvaluator = RankingEvaluator(k=k)\n",
    "ndcg = rankingEvaluator.evaluate(predictionDF)\n",
    "print('NDCG', ndcg)"
   ]
  },
  {
   "cell_type": "code",
   "execution_count": 9,
   "metadata": {
    "ExecuteTime": {
     "end_time": "2017-05-20T18:23:27.580172",
     "start_time": "2017-05-20T18:23:08.544210"
    },
    "collapsed": false
   },
   "outputs": [
    {
     "name": "stdout",
     "output_type": "stream",
     "text": [
      "https://github.com/squeaky-pl/japronto 1.303621768951416 C 4271\n",
      "https://github.com/codelucas/newspaper 1.2780914306640625 Python 4616\n",
      "https://github.com/locustio/locust 1.276933193206787 Python 5246\n",
      "https://github.com/faif/python-patterns 1.231217384338379 Python 11445\n",
      "https://github.com/MagicStack/uvloop 1.2143199443817139 Python 3533\n",
      "https://github.com/dbader/schedule 1.211169958114624 Python 3081\n",
      "https://github.com/django/channels 1.2050305604934692 Python 2097\n",
      "https://github.com/crsmithdev/arrow 1.203598976135254 Python 4236\n",
      "https://github.com/pennersr/django-allauth 1.1907161474227905 Python 3031\n",
      "https://github.com/scrapinghub/portia 1.1849253177642822 Python 5084\n",
      "https://github.com/PyMySQL/PyMySQL 1.1842286586761475 Python 2727\n",
      "https://github.com/channelcat/sanic 1.1837971210479736 Python 5808\n",
      "https://github.com/rosarior/awesome-django 1.1822545528411865  5498\n",
      "https://github.com/getsentry/sentry 1.1799488067626953 Python 12651\n",
      "https://github.com/tqdm/tqdm 1.175230860710144 Python 3841\n",
      "https://github.com/coleifer/peewee 1.1686620712280273 Python 4027\n",
      "https://github.com/airbnb/superset 1.1615216732025146 Python 13946\n",
      "https://github.com/aio-libs/aiohttp 1.1578049659729004 Python 3231\n",
      "https://github.com/mher/flower 1.1554384231567383 Python 2282\n",
      "https://github.com/scrapy/scrapy 1.15224289894104 Python 20575\n",
      "https://github.com/vinta/awesome-python 1.1506152153015137 Python 34105\n",
      "https://github.com/joke2k/faker 1.1492033004760742 Python 4676\n",
      "https://github.com/gawel/pyquery 1.1490486860275269 Python 1201\n",
      "https://github.com/nvie/rq 1.1486194133758545 Python 3838\n",
      "https://github.com/celery/celery 1.1463059186935425 Python 6819\n",
      "https://github.com/Qix-/better-exceptions 1.1399354934692383 Python 1972\n",
      "https://github.com/encode/django-rest-framework 1.1390964984893799 Python 7917\n",
      "https://github.com/seatgeek/fuzzywuzzy 1.1332340240478516 Python 3269\n",
      "https://github.com/google/grumpy 1.1329607963562012 Go 7622\n",
      "https://github.com/spotify/luigi 1.1304398775100708 Python 6985\n"
     ]
    }
   ],
   "source": [
    "from albedo_toolkit.common import recommendItems\n",
    "\n",
    "username = 'vinta'\n",
    "recommendedItemsDF = recommendItems(rawDF, alsModel, username, topN=k, excludeKnownItems=False)\n",
    "for item in recommendedItemsDF.collect():\n",
    "    repoName = item['repo_full_name']\n",
    "    repoUrl = 'https://github.com/{0}'.format(repoName)\n",
    "    print(repoUrl, item['prediction'], item['repo_language'], item['stargazers_count'])"
   ]
  },
  {
   "cell_type": "code",
   "execution_count": null,
   "metadata": {
    "collapsed": true
   },
   "outputs": [],
   "source": []
  }
 ],
 "metadata": {
  "anaconda-cloud": {},
  "kernelspec": {
   "display_name": "Python [default]",
   "language": "python",
   "name": "python3"
  },
  "language_info": {
   "codemirror_mode": {
    "name": "ipython",
    "version": 3
   },
   "file_extension": ".py",
   "mimetype": "text/x-python",
   "name": "python",
   "nbconvert_exporter": "python",
   "pygments_lexer": "ipython3",
   "version": "3.5.2"
  }
 },
 "nbformat": 4,
 "nbformat_minor": 1
}

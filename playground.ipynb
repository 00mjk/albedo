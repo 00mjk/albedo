{
 "cells": [
  {
   "cell_type": "code",
   "execution_count": 1,
   "metadata": {
    "ExecuteTime": {
     "end_time": "2017-05-12T04:02:16.212410",
     "start_time": "2017-05-12T04:02:16.205123"
    },
    "collapsed": true
   },
   "outputs": [],
   "source": [
    "import sys\n",
    "sys.path.insert(1, '/Users/vinta/Projects/albedo/spark_app/src/main/python/deps/')\n",
    "\n",
    "import pyspark.sql.functions as F"
   ]
  },
  {
   "cell_type": "code",
   "execution_count": 2,
   "metadata": {
    "ExecuteTime": {
     "end_time": "2017-05-12T04:02:31.716866",
     "start_time": "2017-05-12T04:02:16.215304"
    },
    "collapsed": false,
    "scrolled": true
   },
   "outputs": [
    {
     "name": "stdout",
     "output_type": "stream",
     "text": [
      "+---------+----------------------------+-----------------------+\n",
      "|count(id)|count(DISTINCT from_user_id)|count(DISTINCT repo_id)|\n",
      "+---------+----------------------------+-----------------------+\n",
      "|   691073|                        1583|                 198741|\n",
      "+---------+----------------------------+-----------------------+\n",
      "\n"
     ]
    }
   ],
   "source": [
    "url = 'jdbc:mysql://127.0.0.1:3306/albedo?user=root&password=123&verifyServerCertificate=false&useSSL=false'\n",
    "properties = {\n",
    "    'driver': 'com.mysql.jdbc.Driver',\n",
    "}\n",
    "rawDF = spark.read.jdbc(url, table='app_repostarring', properties=properties)\n",
    "rawDF \\\n",
    "    .agg(F.count('id'), F.countDistinct('from_user_id'), F.countDistinct('repo_id')) \\\n",
    "    .show()"
   ]
  },
  {
   "cell_type": "code",
   "execution_count": 3,
   "metadata": {
    "ExecuteTime": {
     "end_time": "2017-05-12T04:02:35.905726",
     "start_time": "2017-05-12T04:02:31.719615"
    },
    "collapsed": false
   },
   "outputs": [
    {
     "name": "stdout",
     "output_type": "stream",
     "text": [
      "+---------+----------------------------+-----------------------+\n",
      "|count(id)|count(DISTINCT from_user_id)|count(DISTINCT repo_id)|\n",
      "+---------+----------------------------+-----------------------+\n",
      "|   519554|                        1583|                  66758|\n",
      "+---------+----------------------------+-----------------------+\n",
      "\n"
     ]
    }
   ],
   "source": [
    "rawDF \\\n",
    "    .where('stargazers_count > 100') \\\n",
    "    .agg(F.count('id'), F.countDistinct('from_user_id'), F.countDistinct('repo_id')) \\\n",
    "    .show()"
   ]
  },
  {
   "cell_type": "code",
   "execution_count": null,
   "metadata": {
    "collapsed": true
   },
   "outputs": [],
   "source": []
  }
 ],
 "metadata": {
  "anaconda-cloud": {},
  "kernelspec": {
   "display_name": "Python [default]",
   "language": "python",
   "name": "python3"
  },
  "language_info": {
   "codemirror_mode": {
    "name": "ipython",
    "version": 3
   },
   "file_extension": ".py",
   "mimetype": "text/x-python",
   "name": "python",
   "nbconvert_exporter": "python",
   "pygments_lexer": "ipython3",
   "version": "3.5.2"
  }
 },
 "nbformat": 4,
 "nbformat_minor": 1
}
